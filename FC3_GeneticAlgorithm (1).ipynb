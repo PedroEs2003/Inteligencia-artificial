{
  "cells": [
    {
      "cell_type": "markdown",
      "source": [
        "# FC3 - Genetic Algorithm\n",
        "## Pedro Escobedo Straffon\n",
        "## ID: 176110\n",
        "\n",
        "### Import Libraries needed for the project"
      ],
      "metadata": {
        "collapsed": false,
        "id": "469a91f5ac4a4715"
      },
      "id": "469a91f5ac4a4715"
    },
    {
      "cell_type": "code",
      "outputs": [],
      "source": [
        "import numpy as np\n",
        "import random\n",
        "import operator\n",
        "import pandas as pd\n",
        "import matplotlib.pyplot as plt"
      ],
      "metadata": {
        "ExecuteTime": {
          "end_time": "2024-04-23T03:18:00.370318Z",
          "start_time": "2024-04-23T03:18:00.368474Z"
        },
        "id": "67ae68f67350525c"
      },
      "id": "67ae68f67350525c",
      "execution_count": 46
    },
    {
      "cell_type": "markdown",
      "source": [
        "### Define a station class in which we will store the station name and the neighboring stations, along with the travel times"
      ],
      "metadata": {
        "collapsed": false,
        "id": "247bc85b10ca721d"
      },
      "id": "247bc85b10ca721d"
    },
    {
      "cell_type": "code",
      "outputs": [],
      "source": [
        "# Define the Station class to represent each metro station\n",
        "class Station:\n",
        "    # Constructor with two arguments: name of the station and a dictionary of neighboring stations with travel times\n",
        "    def __init__(self, name, neighbors):\n",
        "        self.name = name  # Store the name of the station\n",
        "        self.neighbors = neighbors  # Store the neighbors and their respective travel times\n",
        "\n",
        "    # Method to calculate the travel time to a neighboring station\n",
        "    def distance(self, station):\n",
        "        # Return the travel time if the station is a neighbor, otherwise return a large number (infinity)\n",
        "        return self.neighbors.get(station.name, float('inf'))\n",
        "\n",
        "    # Representation method to return the station's name when printed\n",
        "    def __repr__(self):\n",
        "        return self.name"
      ],
      "metadata": {
        "ExecuteTime": {
          "end_time": "2024-04-23T03:18:01.201593Z",
          "start_time": "2024-04-23T03:18:01.199574Z"
        },
        "id": "67ea17a9d975fe61"
      },
      "id": "67ea17a9d975fe61",
      "execution_count": 47
    },
    {
      "cell_type": "markdown",
      "source": [
        "### Define a fitness class in which we will store the fitness of a route"
      ],
      "metadata": {
        "collapsed": false,
        "id": "c67da699e49d3447"
      },
      "id": "c67da699e49d3447"
    },
    {
      "cell_type": "code",
      "outputs": [],
      "source": [
        "# Fitness class to evaluate the routes\n",
        "class Fitness:\n",
        "    # Constructor with one argument: the route (list of stations)\n",
        "    def __init__(self, route):\n",
        "        self.route = route  # The route is a list of stations\n",
        "        self.distance = 0  # Initialize total distance of the route to zero\n",
        "        self.fitness = 0.0  # Initialize fitness of the route to zero\n",
        "\n",
        "    # Method to calculate the total travel time of the route\n",
        "    def routeDistance(self):\n",
        "        if self.distance == 0:  # If the distance hasn't been calculated yet\n",
        "            pathDistance = 0\n",
        "            # Iterate through the route to sum travel times between consecutive stations\n",
        "            for i in range(0, len(self.route) - 1):\n",
        "                pathDistance += self.route[i].distance(self.route[i + 1])\n",
        "            self.distance = pathDistance  # Store the total distance\n",
        "        return self.distance\n",
        "\n",
        "    # Method to calculate the fitness of the route (inverse of the travel time)\n",
        "    def routeFitness(self):\n",
        "        if self.fitness == 0:  # If the fitness hasn't been calculated yet\n",
        "            # Fitness is the inverse of the route distance\n",
        "            self.fitness = 1 / float(self.routeDistance())\n",
        "        return self.fitness"
      ],
      "metadata": {
        "ExecuteTime": {
          "end_time": "2024-04-23T04:56:27.122927Z",
          "start_time": "2024-04-23T04:56:27.119342Z"
        },
        "id": "1c81405d61da03ba"
      },
      "id": "1c81405d61da03ba",
      "execution_count": 48
    },
    {
      "cell_type": "markdown",
      "source": [
        "### Create a random route"
      ],
      "metadata": {
        "collapsed": false,
        "id": "c5fd8451e40d7e64"
      },
      "id": "c5fd8451e40d7e64"
    },
    {
      "cell_type": "code",
      "outputs": [],
      "source": [
        "def createValidRoute(stationList, startStation, endStation, path=[]):\n",
        "    # If the current station is the endStation, return the path including this station\n",
        "    if path is None:\n",
        "        path = []\n",
        "    if startStation == endStation:\n",
        "        return path + [startStation]\n",
        "\n",
        "    # Avoid cycles by only considering paths that do not include the current station\n",
        "    if startStation not in path:\n",
        "        # Add the current station to the path\n",
        "        newPath = path + [startStation]\n",
        "        # Get neighbors that are valid next steps (avoid revisiting stations in the path)\n",
        "        neighbors = [station for station in stationList if station.name in startStation.neighbors]\n",
        "        # Shuffle neighbors to ensure random path generation\n",
        "        random.shuffle(neighbors)\n",
        "        for neighbor in neighbors:\n",
        "            # Check if the neighbor is not already in the path\n",
        "            if neighbor not in path:\n",
        "                # Recursively try to build a valid path from the neighbor to the endStation\n",
        "                extended_path = createValidRoute(stationList, neighbor, endStation, newPath)\n",
        "                # If a valid path is found, return it\n",
        "                if extended_path:\n",
        "                    return extended_path\n",
        "    # Return None if no valid path is found from this branch\n",
        "    return None"
      ],
      "metadata": {
        "ExecuteTime": {
          "end_time": "2024-04-23T06:26:26.597820Z",
          "start_time": "2024-04-23T06:26:26.593016Z"
        },
        "id": "9ae9a5230bef4c7e"
      },
      "id": "9ae9a5230bef4c7e",
      "execution_count": 49
    },
    {
      "cell_type": "markdown",
      "source": [
        "### Create the initial population"
      ],
      "metadata": {
        "collapsed": false,
        "id": "2eabb9ef864ce88a"
      },
      "id": "2eabb9ef864ce88a"
    },
    {
      "cell_type": "code",
      "outputs": [],
      "source": [
        "def initialPopulation(popSize, stationList, startStation, endStation):\n",
        "    population = []\n",
        "    for _ in range(popSize):\n",
        "        route = None\n",
        "        while not route:\n",
        "            # Continuously attempt to generate a valid route until successful\n",
        "            route = createValidRoute(stationList, startStation, endStation)\n",
        "        # Add the successfully generated route to the population\n",
        "        population.append(route)\n",
        "    # Return the complete population of valid routes\n",
        "    return population"
      ],
      "metadata": {
        "ExecuteTime": {
          "end_time": "2024-04-23T06:25:28.591810Z",
          "start_time": "2024-04-23T06:25:28.589366Z"
        },
        "id": "6ebcf83067a7999c"
      },
      "id": "6ebcf83067a7999c",
      "execution_count": 50
    },
    {
      "cell_type": "markdown",
      "source": [
        "### Rank the routes"
      ],
      "metadata": {
        "collapsed": false,
        "id": "636f83cd523f0ae5"
      },
      "id": "636f83cd523f0ae5"
    },
    {
      "cell_type": "code",
      "outputs": [],
      "source": [
        "# Function to rank all routes in the population based on their fitness\n",
        "def rankRoutes(population):\n",
        "    fitnessResults = {}\n",
        "    # Evaluate the fitness for each route in the population\n",
        "    for i in range(len(population)):\n",
        "        fitnessResults[i] = Fitness(population[i]).routeFitness()\n",
        "    # Sort the routes by their fitness in descending order\n",
        "    return sorted(fitnessResults.items(), key=operator.itemgetter(1), reverse=True)\n"
      ],
      "metadata": {
        "ExecuteTime": {
          "end_time": "2024-04-23T06:25:29.312744Z",
          "start_time": "2024-04-23T06:25:29.310539Z"
        },
        "id": "d0d0142286d5abab"
      },
      "id": "d0d0142286d5abab",
      "execution_count": 51
    },
    {
      "cell_type": "markdown",
      "source": [
        "### Create a selection function that will be used to make the list of parent routes"
      ],
      "metadata": {
        "collapsed": false,
        "id": "a0f5d7b2a3c9b214"
      },
      "id": "a0f5d7b2a3c9b214"
    },
    {
      "cell_type": "code",
      "outputs": [],
      "source": [
        "def selection(popRanked, eliteSize):\n",
        "    # Create a list of tuples with the index of the route and its fitness\n",
        "    selectionResults = []\n",
        "    # Create a DataFrame from the ranked routes\n",
        "    df = pd.DataFrame(np.array(popRanked), columns=[\"Index\",\"Fitness\"])\n",
        "    # Add a cumulative fitness column\n",
        "    df['cum_sum'] = df.Fitness.cumsum()\n",
        "    # Add a cumulative percentage fitness column\n",
        "    df['cum_perc'] = 100*df.cum_sum/df.Fitness.sum()\n",
        "\n",
        "    # Select the elite routes\n",
        "    for i in range(0, eliteSize):\n",
        "        selectionResults.append(popRanked[i][0])\n",
        "    # Select the remaining routes based on the cumulative percentage fitness\n",
        "    for i in range(0, len(popRanked) - eliteSize):\n",
        "        pick = 100*random.random()\n",
        "        # Select the route whose cumulative percentage fitness exceeds the random value\n",
        "        for i in range(0, len(popRanked)):\n",
        "            # If the cumulative percentage fitness exceeds the random value, add the route to the selection results\n",
        "            if pick <= df.iat[i,3]:\n",
        "                selectionResults.append(popRanked[i][0])\n",
        "                break\n",
        "    # Return the list of selected routes\n",
        "    return selectionResults"
      ],
      "metadata": {
        "ExecuteTime": {
          "end_time": "2024-04-23T06:25:29.644889Z",
          "start_time": "2024-04-23T06:25:29.641046Z"
        },
        "id": "2909db4288e834f"
      },
      "id": "2909db4288e834f",
      "execution_count": 52
    },
    {
      "cell_type": "markdown",
      "source": [
        "### Create mating pool"
      ],
      "metadata": {
        "collapsed": false,
        "id": "60527eac138e750"
      },
      "id": "60527eac138e750"
    },
    {
      "cell_type": "code",
      "outputs": [],
      "source": [
        "def matingPool(population, selectionResults):\n",
        "    # Create a list of the routes\n",
        "    matingpool = []\n",
        "    # Add the routes to the mating pool\n",
        "    for i in range(0, len(selectionResults)):\n",
        "        index = selectionResults[i]\n",
        "        matingpool.append(population[index])\n",
        "    return matingpool"
      ],
      "metadata": {
        "ExecuteTime": {
          "end_time": "2024-04-23T06:25:29.997612Z",
          "start_time": "2024-04-23T06:25:29.994639Z"
        },
        "id": "4ec22f233e39b51f"
      },
      "id": "4ec22f233e39b51f",
      "execution_count": 53
    },
    {
      "cell_type": "markdown",
      "source": [
        "### Create a crossover function for two parents to create one child"
      ],
      "metadata": {
        "collapsed": false,
        "id": "d5b53a1c20931830"
      },
      "id": "d5b53a1c20931830"
    },
    {
      "cell_type": "code",
      "outputs": [],
      "source": [
        "def breed(parent1, parent2):\n",
        "    # Create a child route\n",
        "    child = []\n",
        "    childP1 = []\n",
        "    childP2 = []\n",
        "    # Select a random gene\n",
        "    geneA = int(random.random() * len(parent1))\n",
        "    geneB = int(random.random() * len(parent1))\n",
        "    # Start gene\n",
        "    startGene = min(geneA, geneB)\n",
        "    endGene = max(geneA, geneB)\n",
        "    # Create the child\n",
        "    for i in range(startGene, endGene):\n",
        "        childP1.append(parent1[i])\n",
        "    # Add the remaining genes\n",
        "    childP2 = [item for item in parent2 if item not in childP1]\n",
        "    # Create the child\n",
        "    child = childP1 + childP2\n",
        "    return child"
      ],
      "metadata": {
        "ExecuteTime": {
          "end_time": "2024-04-23T06:25:30.749500Z",
          "start_time": "2024-04-23T06:25:30.747022Z"
        },
        "id": "cb98fff319269c37"
      },
      "id": "cb98fff319269c37",
      "execution_count": 54
    },
    {
      "cell_type": "markdown",
      "source": [
        "### Create function to mutate a single route"
      ],
      "metadata": {
        "collapsed": false,
        "id": "b4c19353f955577d"
      },
      "id": "b4c19353f955577d"
    },
    {
      "cell_type": "code",
      "outputs": [],
      "source": [
        "def mutate(individual, mutationRate):\n",
        "    # Mutate a single route\n",
        "    for swapped in range(len(individual)):\n",
        "        # Apply the mutation rate\n",
        "        if(random.random() < mutationRate):\n",
        "            swapWith = int(random.random() * len(individual))\n",
        "            station1 = individual[swapped]\n",
        "            station2 = individual[swapWith]\n",
        "            individual[swapped] = station2\n",
        "            individual[swapWith] = station1\n",
        "    return individual"
      ],
      "metadata": {
        "ExecuteTime": {
          "end_time": "2024-04-23T06:25:31.549164Z",
          "start_time": "2024-04-23T06:25:31.547070Z"
        },
        "id": "d6235375c6c9ad3d"
      },
      "id": "d6235375c6c9ad3d",
      "execution_count": 55
    },
    {
      "cell_type": "markdown",
      "source": [
        "### Create function to mutate the entire population"
      ],
      "metadata": {
        "collapsed": false,
        "id": "531eee0ac57fe87f"
      },
      "id": "531eee0ac57fe87f"
    },
    {
      "cell_type": "code",
      "outputs": [],
      "source": [
        "def mutatePopulation(population, mutationRate):\n",
        "    # Mutate the entire population\n",
        "    mutatedPop = []\n",
        "    for ind in range(0, len(population)):\n",
        "        mutatedInd = mutate(population[ind], mutationRate)\n",
        "        mutatedPop.append(mutatedInd)\n",
        "    return mutatedPop"
      ],
      "metadata": {
        "ExecuteTime": {
          "end_time": "2024-04-23T06:25:32.254970Z",
          "start_time": "2024-04-23T06:25:32.252650Z"
        },
        "id": "6c9c64eb688eaaa3"
      },
      "id": "6c9c64eb688eaaa3",
      "execution_count": 56
    },
    {
      "cell_type": "markdown",
      "source": [
        "### Create a function to evolve the population"
      ],
      "metadata": {
        "collapsed": false,
        "id": "18254cd68b6f55f5"
      },
      "id": "18254cd68b6f55f5"
    },
    {
      "cell_type": "code",
      "outputs": [],
      "source": [
        "def nextGeneration(currentGen, eliteSize, mutationRate):\n",
        "    # Create the next generation\n",
        "    popRanked = rankRoutes(currentGen)\n",
        "    # Select the routes that will be used to generate the next generation\n",
        "    selectionResults = selection(popRanked, eliteSize)\n",
        "    # Create the mating pool\n",
        "    matingpool = matingPool(currentGen, selectionResults)\n",
        "    # Create the next generation using crossover\n",
        "    children = []\n",
        "    # Calculate the number of children to generate\n",
        "    length = len(currentGen) - eliteSize\n",
        "    # Randomly shuffle the mating pool\n",
        "    pool = random.sample(matingpool, len(matingpool))\n",
        "    # Add the elite routes to the next generation\n",
        "    for i in range(0,eliteSize):\n",
        "        children.append(currentGen[i])\n",
        "    # Generate children using the breed function\n",
        "    for i in range(0, length):\n",
        "        child = breed(pool[i], pool[len(currentGen)-i-1])\n",
        "        children.append(child)\n",
        "    # Mutate the children\n",
        "    nextGeneration = mutatePopulation(children, mutationRate)\n",
        "    # Return the next generation\n",
        "    return nextGeneration"
      ],
      "metadata": {
        "ExecuteTime": {
          "end_time": "2024-04-23T06:25:33.110533Z",
          "start_time": "2024-04-23T06:25:33.108073Z"
        },
        "id": "14be81422f9767da"
      },
      "id": "14be81422f9767da",
      "execution_count": 57
    },
    {
      "cell_type": "markdown",
      "source": [
        "### Final function to solve the TSP"
      ],
      "metadata": {
        "collapsed": false,
        "id": "6158649c5bc32671"
      },
      "id": "6158649c5bc32671"
    },
    {
      "cell_type": "code",
      "outputs": [],
      "source": [
        "# Genetic algorithm function to find the shortest route over multiple generations\n",
        "def geneticAlgorithm(stationList, startStation, endStation, popSize, eliteSize, mutationRate, generations):\n",
        "    # Initialize the population with the given size\n",
        "    pop = initialPopulation(popSize, stationList, startStation, endStation)\n",
        "    # Print the initial shortest travel time\n",
        "    print(\"Initial shortest time: \" + str(1 / rankRoutes(pop)[0][1]))\n",
        "\n",
        "    # Evolve the population over the specified number of generations\n",
        "    for i in range(generations):\n",
        "        # Apply the genetic operators to generate the next generation\n",
        "        pop = nextGeneration(pop, eliteSize, mutationRate)\n",
        "        # Print the current shortest travel time\n",
        "        print(\"Current shortest time: \" + str(1 / rankRoutes(pop)[0][1]), end=\"\\r\")\n",
        "\n",
        "    # Print the final shortest travel time\n",
        "    print(\"\\nFinal shortest time: \" + str(1 / rankRoutes(pop)[0][1]))\n",
        "    # Extract the index and the route of the best solution\n",
        "    bestRouteIndex = rankRoutes(pop)[0][0]\n",
        "    bestRoute = pop[bestRouteIndex]\n",
        "    return bestRoute"
      ],
      "metadata": {
        "ExecuteTime": {
          "end_time": "2024-04-23T06:25:33.903106Z",
          "start_time": "2024-04-23T06:25:33.900924Z"
        },
        "id": "5cd416eb3aac0969"
      },
      "id": "5cd416eb3aac0969",
      "execution_count": 58
    },
    {
      "cell_type": "markdown",
      "source": [
        "### Genetic Algorithm to solve the TSP with plotting"
      ],
      "metadata": {
        "collapsed": false,
        "id": "ee6a21d7aecd6d83"
      },
      "id": "ee6a21d7aecd6d83"
    },
    {
      "cell_type": "code",
      "outputs": [],
      "source": [
        "# Function to plot the progress of the shortest route time over generations\n",
        "def geneticAlgorithmPlot(stationList, startStation, endStation, popSize, eliteSize, mutationRate, generations):\n",
        "    # Initialize the population with specific start and end stations\n",
        "    pop = initialPopulation(popSize, stationList, startStation, endStation)\n",
        "    # Evaluate all routes in the initial population and store the shortest time\n",
        "    progress = []\n",
        "    progress.append(1 / rankRoutes(pop)[0][1])\n",
        "    # Print the initial shortest travel time\n",
        "    print(\"Initial shortest time: \" + str(progress[0]))\n",
        "\n",
        "    # Loop through each generation to evolve the population\n",
        "    for i in range(generations):\n",
        "        # Generate the next generation using selection, crossover, and mutation\n",
        "        pop = nextGeneration(pop, eliteSize, mutationRate)\n",
        "        # Calculate and record the shortest travel time in the current generation\n",
        "        progress.append(1 / rankRoutes(pop)[0][1])\n",
        "\n",
        "    # Plotting the results using matplotlib\n",
        "    plt.plot(progress)  # Plot the progress data\n",
        "    plt.ylabel('Shortest Route Time')  # Label for the y-axis\n",
        "    plt.xlabel('Generation')  # Label for the x-axis\n",
        "    plt.show()  # Display the plot\n",
        "\n",
        "    # Print the final shortest travel time after all generations\n",
        "    print(\"Final shortest time: \" + str(progress[-1]))\n",
        "    # Find the best route in the final population\n",
        "    bestRouteIndex = rankRoutes(pop)[0][0]\n",
        "    bestRoute = pop[bestRouteIndex]\n",
        "    # Return the best route found\n",
        "    return bestRoute\n"
      ],
      "metadata": {
        "ExecuteTime": {
          "end_time": "2024-04-23T06:25:34.830525Z",
          "start_time": "2024-04-23T06:25:34.827953Z"
        },
        "id": "c4ff70e330d65b0b"
      },
      "id": "c4ff70e330d65b0b",
      "execution_count": 59
    },
    {
      "cell_type": "markdown",
      "source": [
        "### Run the genetic algorithm"
      ],
      "metadata": {
        "collapsed": false,
        "id": "c64719205a24e498"
      },
      "id": "c64719205a24e498"
    },
    {
      "cell_type": "code",
      "outputs": [
        {
          "output_type": "stream",
          "name": "stdout",
          "text": [
            "Initial shortest time: 14.0\n",
            "Current shortest time: 17.0\n",
            "Final shortest time: 17.0\n",
            "Best route: [Tacubaya, Centro Medico, Balderas, Hidalgo, Guerrero, La Raza, Consulado, Martin Carrera]\n",
            "Initial shortest time: 15.0\n"
          ]
        },
        {
          "output_type": "display_data",
          "data": {
            "text/plain": [
              "<Figure size 640x480 with 1 Axes>"
            ],
            "image/png": "[encoded data removed]"
          },
          "metadata": {}
        },
        {
          "output_type": "stream",
          "name": "stdout",
          "text": [
            "Final shortest time: 19.0\n",
            "Best route: [Tacubaya, Tacuba, El Rosario, Instituto del Petroleo, Deportivo 18 de Marzo, Martin Carrera]\n"
          ]
        }
      ],
      "source": [
        "# Define the metro stations and their neighbors with travel times\n",
        "\n",
        "stations = {\n",
        "    'El Rosario': Station('El Rosario', {'Tacuba': 4, 'Instituto del Petroleo': 6}),\n",
        "    'Instituto del Petroleo': Station('Instituto del Petroleo', {'El Rosario': 6, 'Deportivo 18 de Marzo': 2, 'La Raza': 2 }),\n",
        "    'Deportivo 18 de Marzo': Station('Deportivo 18 de Marzo', {'Instituto del Petroleo': 2 , 'La Raza': 2, 'Martin Carrera': 2 }),\n",
        "    'Martin Carrera': Station('Martin Carrera', {'Deportivo 18 de Marzo': 2, 'Consulado': 3 }),\n",
        "    'La Raza': Station('La Raza', {'Deportivo 18 de Marzo': 2, 'Instituto del Petroleo': 2, 'Guerrero': 2, 'Consulado': 3 }),\n",
        "    'Tacuba': Station('Tacuba', {'El Rosario': 4, 'Hidalgo': 7, 'Tacubaya': 5 }),\n",
        "    'Consulado': Station('Consulado', {'La Raza': 3, 'Martin Carrera': 3, 'Oceania': 3, 'Morelos': 2 }),\n",
        "    'Guerrero': Station('Guerrero', {'La Raza': 2, 'Garibaldi': 1, 'Hidalgo': 1 }),\n",
        "    'Garibaldi': Station('Garibaldi', {'Guerrero': 1, 'Morelos': 3, 'Bellas Artes': 1 }),\n",
        "    'Morelos': Station('Morelos', {'Garibaldi': 3, 'Consulado': 2, 'San Lazaro': 1, 'Candelaria': 1 }),\n",
        "    'Oceania': Station('Oceania', {'Consulado': 3, 'Pantitlan': 3, 'San Lazaro': 3 }),\n",
        "    'Hidalgo': Station('Hidalgo', {'Tacuba': 7, 'Guerrero': 1, 'Bellas Artes': 1, 'Balderas': 2 }),\n",
        "    'Bellas Artes': Station('Bellas Artes', {'Hidalgo': 1, 'Garibaldi': 1, 'Pino Suarez': 3, 'Salto del Agua': 2 }),\n",
        "    'Balderas': Station('Balderas', {'Hidalgo': 2, 'Salto del Agua': 1, 'Centro Medico': 3, 'Tacubaya': 6 }),\n",
        "    'Salto del Agua': Station('Salto del Agua', {'Bellas Artes': 2, 'Pino Suarez': 2, 'Chabacano': 3, 'Balderas': 1}),\n",
        "    'Pino Suarez': Station('Pino Suarez', {'Bellas Artes': 3, 'Candelaria': 2, 'Chabacano': 2, 'Salto del Agua': 2 }),\n",
        "    'Candelaria': Station('Candelaria', {'Morelos': 1, 'San Lazaro': 1, 'Jamaica': 2, 'Pino Suarez': 2 }),\n",
        "    'San Lazaro': Station('San Lazaro', {'Morelos': 1, 'Oceania': 3, 'Pantitlan': 6, 'Candelaria': 1 }),\n",
        "    'Pantitlan': Station('Pantitlan', {'Oceania': 3, 'Jamaica': 5, 'San Lazaro': 6 }),\n",
        "    'Tacubaya': Station('Tacubaya', {'Tacuba': 5, 'Balderas': 6, 'Centro Medico': 3, 'Mixcoac': 3 }),\n",
        "    'Centro Medico': Station('Centro Medico', {'Balderas': 3, 'Chabacano': 2, 'Zapata': 4, 'Tacubaya': 3 }),\n",
        "    'Chabacano': Station('Chabacano', {'Pino Suarez': 2, 'Jamaica': 1, 'Atlalilco': 8, 'Ermita': 6, 'Centro Medico': 2, 'Salto del Agua': 3 }),\n",
        "    'Jamaica': Station('Jamaica', {'Candelaria': 2, 'Pantitlan': 5, 'Chabacano': 1 }),\n",
        "    'Mixcoac': Station('Mixcoac', {'Tacubaya': 3, 'Zapata': 3 }),\n",
        "    'Zapata': Station('Zapata', {'Centro Medico': 4, 'Ermita': 3, 'Mixcoac': 3 }),\n",
        "    'Ermita': Station('Ermita', {'Chabacano': 6, 'Atlalilco': 2, 'Zapata': 3 }),\n",
        "    'Atlalilco': Station('Atlalilco', {'Chabacano': 8, 'Ermita': 2 }),\n",
        "}\n",
        "\n",
        "\n",
        "# Create a list of all stations\n",
        "stationList = [stations[name] for name in stations]\n",
        "# Define the start and end stations\n",
        "startStation = stations['Tacubaya']\n",
        "endStation = stations['Martin Carrera']\n",
        "\n",
        "# Run genetic algorithm\n",
        "route = geneticAlgorithm(stationList, startStation, endStation, popSize=500, eliteSize=20, mutationRate=0.01, generations=100)\n",
        "print(\"Best route:\", route)\n",
        "\n",
        "# Run genetic algorithm with plotting\n",
        "bestRoute = geneticAlgorithmPlot(stationList, startStation, endStation, popSize=100, eliteSize=20, mutationRate=0.01, generations=500)\n",
        "print(\"Best route:\", bestRoute)"
      ],
      "metadata": {
        "ExecuteTime": {
          "end_time": "2024-04-23T07:22:08.175748Z",
          "start_time": "2024-04-23T07:21:46.713226Z"
        },
        "colab": {
          "base_uri": "https://localhost:8080/",
          "height": 577
        },
        "id": "d2d1d77b2dbe975b",
        "outputId": "2058a9e7-858c-4289-9597-55fd6d089e32"
      },
      "id": "d2d1d77b2dbe975b",
      "execution_count": 60
    }
  ],
  "metadata": {
    "kernelspec": {
      "display_name": "Python 3",
      "language": "python",
      "name": "python3"
    },
    "language_info": {
      "codemirror_mode": {
        "name": "ipython",
        "version": 2
      },
      "file_extension": ".py",
      "mimetype": "text/x-python",
      "name": "python",
      "nbconvert_exporter": "python",
      "pygments_lexer": "ipython2",
      "version": "2.7.6"
    },
    "colab": {
      "provenance": []
    }
  },
  "nbformat": 4,
  "nbformat_minor": 5
}